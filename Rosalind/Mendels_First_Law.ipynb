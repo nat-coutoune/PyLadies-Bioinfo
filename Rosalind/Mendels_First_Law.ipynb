{
 "cells": [
  {
   "cell_type": "markdown",
   "metadata": {},
   "source": [
    "# Mendel's First Law  \n",
    "\n",
    "[Rosalind problem here](https://rosalind.info/problems/iprb/).\n",
    "\n",
    "Solutiom from [here](http://saradoesbioinformatics.blogspot.com/2016/06/mendels-first-law.html).\n"
   ]
  },
  {
   "cell_type": "code",
   "execution_count": 2,
   "metadata": {},
   "outputs": [
    {
     "name": "stdout",
     "output_type": "stream",
     "text": [
      "0.7849870418363569\n"
     ]
    }
   ],
   "source": [
    "k = 28                                                      \n",
    "m = 23                                                        \n",
    "n = 23                                                        \n",
    "pop = k + m + n                                               \n",
    "prob = (4*(k*(k-1)+2*k*m+2*k*n+m*n)+3*m*(m-1))/(4*pop*(pop-1))\n",
    "print(prob) "
   ]
  }
 ],
 "metadata": {
  "kernelspec": {
   "display_name": "Python 3",
   "language": "python",
   "name": "python3"
  },
  "language_info": {
   "codemirror_mode": {
    "name": "ipython",
    "version": 3
   },
   "file_extension": ".py",
   "mimetype": "text/x-python",
   "name": "python",
   "nbconvert_exporter": "python",
   "pygments_lexer": "ipython3",
   "version": "3.7.6"
  }
 },
 "nbformat": 4,
 "nbformat_minor": 4
}
