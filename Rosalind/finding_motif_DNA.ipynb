{
 "cells": [
  {
   "cell_type": "markdown",
   "metadata": {},
   "source": [
    "# Finding a motif in DNA - Rosalind  \n",
    "\n",
    "Este é um problema clássico de *string slicing*, pois devemos achar uma sub-string dentro de uma string maior. O problema pede o índice de início de todas as ocorréncias dessa substring.  \n",
    "É importante lembrar que aos índices devemos somar +1, pois o Rosalind tem como base o 1 como start index.\n",
    "\n",
    "**Sample dataset**  \n",
    "GATATATGCATATACTT  \n",
    "ATAT  \n",
    "\n",
    "**Salida**  \n",
    "2 4 10\n"
   ]
  },
  {
   "cell_type": "markdown",
   "metadata": {},
   "source": [
    "### Some trings methods  \n",
    " Bora dar uma relida em métodos com strings? :)"
   ]
  },
  {
   "cell_type": "code",
   "execution_count": 12,
   "metadata": {},
   "outputs": [
    {
     "data": {
      "text/plain": [
       "1"
      ]
     },
     "execution_count": 12,
     "metadata": {},
     "output_type": "execute_result"
    }
   ],
   "source": [
    "#lower / upper case\n",
    "s.lower()\n",
    "s.upper()\n",
    "\n",
    "#startwith / endswith : boolean\n",
    "s.startswith('GATA') \n",
    "\n",
    "#string replace (<old>, <new>)\n",
    "s.replace('GATA', 'AGTT')\n",
    "\n",
    "#find a substring: find(<'sub'>): return index\n",
    "s.find('ATAT')"
   ]
  },
  {
   "cell_type": "markdown",
   "metadata": {},
   "source": [
    "### Lendo arquivos de texto\n",
    "\n",
    "O método `read()` do objeto de arquivo nos permite ler todo o conteúdo de um arquivo de texto de uma só vez. Primeiro, criaremos um arquivo-objeto e abriremos o arquivo de texto necessário no modo de leitura usando a função `open()`. Então usaremos a função `read()` com este objeto de arquivo para ler todo o texto em uma string e imprimi-lo como mostrado abaixo.\n",
    "\n",
    "\n",
    "***\n",
    "This is quite important! (sorry is it just a Markdown test :)\n",
    "***"
   ]
  },
  {
   "cell_type": "code",
   "execution_count": 1,
   "metadata": {},
   "outputs": [
    {
     "name": "stdout",
     "output_type": "stream",
     "text": [
      "TGCATCTTAACATCTTAGCATCTTAACCATCTTACAATCTCATCTTAACCAGTGGCTACATCTTATCATCTTACAAGCATCTTACATCTTATCATCTTAGGCATCTTACATCTTACATCTTATAAGCATCTTACATGGTACATCTTAAACATCTTACATCTTAGTCGTGGACATCTTACATCTTACATCTTAGACTATACATCTTATCATCTTACATCTTAAACATCTTACCATCTTACCCATCTTACATCTTACCATCTTAGACGCCATCTTACATCTTAAAACCATCTTACATCTTACCATCTTACGCCATCTTAGATCCAAGCATCTTAACATCTTATGCTGAATCTGTACATCTTACCGTGCATCTTATCGTAAAACATCTTACATCTTAACATCTTACACATCTTACATCTTACATCTTACATCTTATCATCTTACATCTTAACGCGACATCTTAGTCATCTTAACATCTTACATCTTAACATCTTACTCCATCTTAATAAGAGCCCTAGCCGTCGCTAGACATCTTACTCATCTTATCATCTTATCATCTTACATCTTACCTATACTAGCATCTTAAGCAAAAGCATCTTAGCATCTTAATTGCATCTTATGAAGAGGCATCTTATGCATCTTACATCTTATCATCTTACTTGCTATCATCTTATACATCTTACATCTTAGGCATCTTAGCGGTTCATCTTACCATCTTAGGTGAGGCGCATCTTACATCTTACATCTTACCATCTTATCCATCTTAGACCATCTTAGCATCTTATTTTCATCTTAGACCATCTTATTAATTCAACATCTTACATCTTATCATCTTATACATCTTAGAACTGT\n",
      "\n",
      "\n",
      "CATCTTACA\n",
      "\n"
     ]
    }
   ],
   "source": [
    "# input files \n",
    "\n",
    "with open(\"rosalind_subs.txt\") as d:\n",
    "    DNA = d.read()\n",
    "    \n",
    "with open(\"sub.txt\") as s:\n",
    "    sub = s.read()\n",
    "print(DNA)\n",
    "print(sub)"
   ]
  },
  {
   "cell_type": "markdown",
   "metadata": {},
   "source": [
    "### The *splitlines* method\n",
    "\n",
    "Como o file de Rosalind vem as duas strings num mesmo file, tem que usar um outro método para ler mais rápido, sem ter que copiar e colar.  \n",
    "El método `splitline()` se utiliza para dividir las líneas en los límites de las líneas. La función devuelve una lista de líneas en la cadena, incluido el salto de línea(opcional).\n",
    "\n",
    "**Sintaxis:**  `str.splitlines([keepends])`\n",
    "\n",
    "**Parámetros:**\n",
    "\n",
    "`keepends`(opcional) : cuando se establece en `True` , los saltos de línea se incluyen en la lista resultante.  \n",
    "Esto puede ser un número , que especifica la posición de salto de línea o, puede ser cualquiera de los caracteres Unicode , como “\\ n” “\\ r”, “\\ r \\ n”, etc., como límites para las cadenas."
   ]
  },
  {
   "cell_type": "code",
   "execution_count": 9,
   "metadata": {},
   "outputs": [
    {
     "name": "stdout",
     "output_type": "stream",
     "text": [
      "('CCTATGGAGTGACTATGGAGCGGCGAAGTCTATGGACTATGGAGACCTATGGATCTATGGACTATGGAACTATGGATGGTCTATGGACGTACTATGGATCCTATGGAAAAACTATGGACAGAGCACGCTATGGAGCCTCCTATGGAGGCTATGGAGAACTATGGACCGATCTATGGAGTCTATGGATGCTATGGAGACTATGGACCTATGGAGTACAGCTATGGACTATGGAGCGCTATGGATTCCTATGGATTAGCTATGGACTATCTTGCTATGGAACTATGGACTATGGAGTACTATTCTATGGACTATGGACTATGGAACCTATGGAAGGCTATGGACTATGGAAACCCTATGGAGTACTATGGATCCTATGGAATCTATGGATGCCTATGGACTATGGAACTATGGAACTATGGAGGCCCTATGGACTATGGATGACTATGGAGACTCACTATGGAGCTATGGACCTATGGACTATGGACTATGGAGTCCTATGGAAGGCTCTATGGACTATGGACTATGGATATCTATAACGATAACTATGGAGCTATGGAAAGGCTATGGATTCGCTATGGAAGTCTATGGAACGCTATGGACAAACTATGGACTATGGACTATGGACTCTATGGATCCTACGCTATGGAGCCTATGGAACTATGGAACTATGGAACACATGTACTATGGAACATACTATGGATAACCGCTATGGATCCTATGGATCTATGGAAACTATGGACTATGGATCCTATGGAATGTCTCCTATGGAGCATCGCTATGGATTATCTATGGAGGCCTATGGAACTATGGATTCGCTATGGATCCTATGGACTATGGAGATTTTCTATGGAAACTATGGAGCAACCTATGGACCTATGGAGGCTATGGACTATGGAGAACTATGGAACTATCTAA', 'CTATGGACT')\n"
     ]
    }
   ],
   "source": [
    "with open('rosalind_subs.txt','r') as file:\n",
    "    content = file.read()\n",
    "DNA, subDNA = content.splitlines()\n",
    "print((DNA, subDNA))"
   ]
  },
  {
   "cell_type": "markdown",
   "metadata": {},
   "source": [
    "### The *range*  function  \n",
    "\n",
    "The range() function returns an immutable sequence of numbers between the given start integer to the stop integer.   \n",
    "\n",
    "\n",
    "#### `range()` Parameters\n",
    "\n",
    "`range()` takes mainly three arguments having the same use in both definitions:\n",
    "\n",
    "* start - integer starting from which the sequence of integers is to be returned\n",
    "* stop - integer before which the sequence of integers is to be returned. The range of integers ends at stop - 1.\n",
    "* step (Optional) - integer value which determines the increment between each integer in the sequence\n"
   ]
  },
  {
   "cell_type": "code",
   "execution_count": 15,
   "metadata": {},
   "outputs": [
    {
     "name": "stdout",
     "output_type": "stream",
     "text": [
      "[]\n",
      "[0, 1, 2, 3, 4, 5, 6, 7, 8, 9]\n",
      "[1, 2, 3, 4, 5, 6, 7, 8, 9]\n"
     ]
    }
   ],
   "source": [
    "# Some tests with range -------------------------------------------------\n",
    "# empty range\n",
    "print(list(range(0)))\n",
    "\n",
    "# using range(stop)\n",
    "print(list(range(10)))\n",
    "\n",
    "# using range(start, stop) # Note that do not includes the last value, eg. in this example just print untill 9\n",
    "print(list(range(1, 10)))"
   ]
  },
  {
   "cell_type": "code",
   "execution_count": 10,
   "metadata": {},
   "outputs": [
    {
     "name": "stdout",
     "output_type": "stream",
     "text": [
      "30\n",
      "55\n",
      "219\n",
      "257\n",
      "280\n",
      "302\n",
      "309\n",
      "335\n",
      "391\n",
      "425\n",
      "471\n",
      "478\n",
      "507\n",
      "514\n",
      "604\n",
      "611\n",
      "618\n",
      "733\n",
      "825\n",
      "883\n"
     ]
    }
   ],
   "source": [
    "# Finally, let's play with our seqs :) -----------------------------------\n",
    "\n",
    "for position in range(len(DNA)):\n",
    "    if DNA[position:].startswith(subDNA):\n",
    "        print(position+1, end=\" \")\n",
    "        \n",
    "# remember: python uses 0-based indexing, so we need to add 1 to position\n",
    "# (we want to return positions starting from 1)"
   ]
  },
  {
   "cell_type": "code",
   "execution_count": 1,
   "metadata": {},
   "outputs": [
    {
     "name": "stdout",
     "output_type": "stream",
     "text": [
      "('CCTATGGAGTGACTATGGAGCGGCGAAGTCTATGGACTATGGAGACCTATGGATCTATGGACTATGGAACTATGGATGGTCTATGGACGTACTATGGATCCTATGGAAAAACTATGGACAGAGCACGCTATGGAGCCTCCTATGGAGGCTATGGAGAACTATGGACCGATCTATGGAGTCTATGGATGCTATGGAGACTATGGACCTATGGAGTACAGCTATGGACTATGGAGCGCTATGGATTCCTATGGATTAGCTATGGACTATCTTGCTATGGAACTATGGACTATGGAGTACTATTCTATGGACTATGGACTATGGAACCTATGGAAGGCTATGGACTATGGAAACCCTATGGAGTACTATGGATCCTATGGAATCTATGGATGCCTATGGACTATGGAACTATGGAACTATGGAGGCCCTATGGACTATGGATGACTATGGAGACTCACTATGGAGCTATGGACCTATGGACTATGGACTATGGAGTCCTATGGAAGGCTCTATGGACTATGGACTATGGATATCTATAACGATAACTATGGAGCTATGGAAAGGCTATGGATTCGCTATGGAAGTCTATGGAACGCTATGGACAAACTATGGACTATGGACTATGGACTCTATGGATCCTACGCTATGGAGCCTATGGAACTATGGAACTATGGAACACATGTACTATGGAACATACTATGGATAACCGCTATGGATCCTATGGATCTATGGAAACTATGGACTATGGATCCTATGGAATGTCTCCTATGGAGCATCGCTATGGATTATCTATGGAGGCCTATGGAACTATGGATTCGCTATGGATCCTATGGACTATGGAGATTTTCTATGGAAACTATGGAGCAACCTATGGACCTATGGAGGCTATGGACTATGGAGAACTATGGAACTATCTAA', 'CTATGGACT')\n",
      "30 55 219 257 280 302 309 335 391 425 471 478 507 514 604 611 618 733 825 883 "
     ]
    }
   ],
   "source": [
    "# Complete:\n",
    "\n",
    "with open('rosalind_subs.txt','r') as file:\n",
    "    content = file.read()\n",
    "DNA, subDNA = content.splitlines()\n",
    "print((DNA, subDNA))\n",
    "\n",
    "for position in range(len(DNA)):\n",
    "    if DNA[position:].startswith(subDNA):\n",
    "        print(position+1, end=\" \")\n",
    "        "
   ]
  }
 ],
 "metadata": {
  "kernelspec": {
   "display_name": "Python 3",
   "language": "python",
   "name": "python3"
  },
  "language_info": {
   "codemirror_mode": {
    "name": "ipython",
    "version": 3
   },
   "file_extension": ".py",
   "mimetype": "text/x-python",
   "name": "python",
   "nbconvert_exporter": "python",
   "pygments_lexer": "ipython3",
   "version": "3.7.6"
  }
 },
 "nbformat": 4,
 "nbformat_minor": 4
}
