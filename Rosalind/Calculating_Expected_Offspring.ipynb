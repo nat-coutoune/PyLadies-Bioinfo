{
 "cells": [
  {
   "cell_type": "markdown",
   "metadata": {},
   "source": [
    "# Calculating Expected Offspring - iev\n",
    "\n",
    "Problema do Rosalind [aqui](https://rosalind.info/problems/iev/). Solución [aqui](https://52387118.tistory.com/47).   \n",
    "Este é um problema de probabilística usando herença mendeliana monogénica de dominancia completa.\n",
    "\n",
    "**From Rosalind:**   \n",
    "**Given:** Six nonnegative integers, each of which does not exceed 20,000. The integers correspond to the number of couples in a population possessing each genotype pairing for a given factor. In order, the six given integers represent the number of couples having the following genotypes:   \n",
    "\n",
    "    AA-AA \n",
    "    AA-Aa\n",
    "    AA-aa\n",
    "    Aa-Aa\n",
    "    Aa-aa\n",
    "    aa-aa\n",
    "\n",
    "**Return:** The expected number of offspring displaying the dominant phenotype in the next generation, under the assumption that every couple has exactly two offspring.   "
   ]
  },
  {
   "cell_type": "markdown",
   "metadata": {},
   "source": [
    "#### Mas qual é a probabilidade de ter prole dominante segundo o genótipo dos parentais?   \n",
    "\n",
    "Seguindo as regras da herança mendeliana simples as proporções esperadas são as seguintes:\n",
    "\n",
    "    AA-AA = 1\n",
    "    AA-Aa = 1\n",
    "    AA-aa = 1\n",
    "    Aa-Aa = 0.75\n",
    "    Aa-aa = 0.5\n",
    "    aa-aa = 0\n",
    "    \n",
    "Agora, é importante mutiplicar as proporções por 2, ja que cada parental terá descendencia 2x.\n",
    "\n"
   ]
  },
  {
   "cell_type": "markdown",
   "metadata": {},
   "source": [
    "[Aqui](https://noobest.medium.com/rosalind-calculating-expected-offspring-bcb76544d55e) tem outra resolução muito diferente e muito bem explicada para quem se interessar :)"
   ]
  },
  {
   "cell_type": "code",
   "execution_count": 13,
   "metadata": {},
   "outputs": [
    {
     "name": "stdout",
     "output_type": "stream",
     "text": [
      "155436.5\n"
     ]
    }
   ],
   "source": [
    "#!/usr/bin/env python3 \n",
    "# -*- coding: utf-8 -*\n",
    "\n",
    "\"\"\"\n",
    "Nesta resolução vamos a aproveitar que o Rosalind passa os valores dos genótipos ordenados, e desta forma \n",
    "filtrar as proporções baseadas no index :)\n",
    "\"\"\"\n",
    "\n",
    "# Numero de casais por genótipo:\n",
    "couples = [19404, 17906, 19802, 16403, 16608, 18032]\n",
    "\n",
    "# No. de dominantes:\n",
    "dom = []\n",
    "\n",
    "for i in range(len(couple)):\n",
    "     # Nos tres primeiros casos a proporção esperada é 1: AA-AA,AA-Aa e AA-aa:\n",
    "    if i < 3:\n",
    "        dom.append(couples[i] * 2)\n",
    "    # No index 3, Aa-Aa, a porporção é de 3/4:\n",
    "    elif i == 3:\n",
    "        dom.append(couples[i] * 3 / 4 * 2)\n",
    "    # No index 4, Aa-Aa, a porporção é de 2/4, então divido o total por 2 e multiplico por 2:\n",
    "    # Como dividir e mutiplicar pelo mesmo númro da na mesma, poderiamos simplesmente anexar o numero\n",
    "    # Ver no proximo bloco de código que fica igual :)\n",
    "    elif i == 4:\n",
    "        dom.append(couples[i] / 2 * 2)\n",
    "    # No index 5, aa-aa, a porporção é de 0, então não adciono nada:\n",
    "    else :\n",
    "        dom.append(0)\n",
    "\n",
    "print(sum(dom))"
   ]
  },
  {
   "cell_type": "code",
   "execution_count": 12,
   "metadata": {},
   "outputs": [
    {
     "name": "stdout",
     "output_type": "stream",
     "text": [
      "155436.5\n"
     ]
    }
   ],
   "source": [
    "couples = [19404, 17906, 19802, 16403, 16608, 18032]\n",
    "dom = []\n",
    "for i in range(len(couple)):\n",
    "     # Nos tres primeiros casos a proporção esperada é 1: AA-AA,AA-Aa e AA-aa:\n",
    "    if i < 3:\n",
    "        dom.append(couples[i] * 2)\n",
    "    # No index 3, Aa-Aa, a porporção é de 3/4:\n",
    "    elif i == 3:\n",
    "        dom.append(couples[i] * 3 / 4 * 2)\n",
    "    # No index 4, Aa-Aa, a porporção é de 2/4 anexo o número como está:\n",
    "    elif i == 4:\n",
    "        dom.append(couples[i])\n",
    "    # No index 5, aa-aa, a porporção é de 0, então não adciono nada:\n",
    "    else :\n",
    "        dom.append(0)\n",
    "        \n",
    "print(sum(dom))"
   ]
  }
 ],
 "metadata": {
  "kernelspec": {
   "display_name": "Python 3",
   "language": "python",
   "name": "python3"
  },
  "language_info": {
   "codemirror_mode": {
    "name": "ipython",
    "version": 3
   },
   "file_extension": ".py",
   "mimetype": "text/x-python",
   "name": "python",
   "nbconvert_exporter": "python",
   "pygments_lexer": "ipython3",
   "version": "3.7.6"
  }
 },
 "nbformat": 4,
 "nbformat_minor": 4
}
