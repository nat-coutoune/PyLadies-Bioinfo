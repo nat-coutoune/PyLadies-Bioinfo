{
 "cells": [
  {
   "cell_type": "markdown",
   "metadata": {},
   "source": [
    "# Counting point mutations   \n",
    "\n",
    "[Rosalind problem here.](https://rosalind.info/problems/hamm/)   \n",
    "Given two strings s and t of equal length, the Hamming distance between s and t, denoted dH(s,t), is the number of corresponding symbols that differ in s and t.    \n",
    "\n",
    "\n",
    "**Given:** Two DNA strings s and t of equal length (not exceeding 1 kbp).  \n",
    "**Return:** The Hamming distance dH(s,t). \n",
    " \n",
    " \n",
    "Code [from here](https://github.com/coyotespike/Rosalind/blob/master/P11%20Counting%20Point%20Mutations/count_point_mutations.py)."
   ]
  },
  {
   "cell_type": "markdown",
   "metadata": {},
   "source": [
    "### Hamming distance\n",
    "\n",
    "The Hamming distance between two strings having the same length is the minimum number of symbol substitutions required to transform one string into the other. If the strings are given by s1 and s2, then we write the Hamming distance between them as dH(s1,s2).  \n",
    "\n",
    "We can compute the Hamming distance by visual inspection: the Hamming distance between two strings is simply the number of positions in the strings at which corresponding symbols differ. For example, the Hamming distance between the two strings in the figure below must be equal to 7.   \n",
    "\n",
    "![hamming](https://rosalind.info/media/Hamming_distance.png \"hamming\")"
   ]
  },
  {
   "cell_type": "code",
   "execution_count": 9,
   "metadata": {},
   "outputs": [
    {
     "name": "stdout",
     "output_type": "stream",
     "text": [
      "430\n"
     ]
    }
   ],
   "source": [
    "# open the file with the data\n",
    "data = open(\"rosalind_hamm.txt\", \"r\")\n",
    "\n",
    "#read it but then split by lines, and store as a list in dataset\n",
    "dataset = data.read().splitlines()\n",
    "#the first item in the dataset is the first line, and that's the first string to compare\n",
    "firststring = dataset[0]\n",
    "\n",
    "#the second item is the second line, and that's the second string to compare\n",
    "secondstring = dataset[1]\n",
    "\n",
    "count = 0\n",
    "for i in range(len(firststring)):\n",
    "    if firststring[i] != secondstring[i]:\n",
    "        count +=1\n",
    "print(count)"
   ]
  },
  {
   "cell_type": "code",
   "execution_count": null,
   "metadata": {},
   "outputs": [],
   "source": []
  },
  {
   "cell_type": "code",
   "execution_count": null,
   "metadata": {},
   "outputs": [],
   "source": []
  }
 ],
 "metadata": {
  "kernelspec": {
   "display_name": "Python 3",
   "language": "python",
   "name": "python3"
  },
  "language_info": {
   "codemirror_mode": {
    "name": "ipython",
    "version": 3
   },
   "file_extension": ".py",
   "mimetype": "text/x-python",
   "name": "python",
   "nbconvert_exporter": "python",
   "pygments_lexer": "ipython3",
   "version": "3.7.6"
  }
 },
 "nbformat": 4,
 "nbformat_minor": 4
}
