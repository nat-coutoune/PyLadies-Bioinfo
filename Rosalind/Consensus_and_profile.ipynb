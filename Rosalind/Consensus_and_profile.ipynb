{
 "cells": [
  {
   "cell_type": "markdown",
   "metadata": {},
   "source": [
    "# Consensus and Profile\n",
    "\n",
    "From [here](https://clana.medium.com/finding-a-most-likely-ancestor-bioinformatics-problem-8be888cfae08).  \n",
    "Problema do Rosalind [aqui](https://rosalind.info/problems/cons/).\n"
   ]
  },
  {
   "cell_type": "markdown",
   "metadata": {},
   "source": [
    "Uma matriz é uma tabela retangular de valores dividida em linhas e colunas. Uma matriz m×n tem m linhas e n colunas. Dada uma matriz A, escrevemos Ai,j para indicar o valor encontrado na interseção da linha ie coluna j.   \n",
    "\n",
    "\n",
    "Digamos que temos uma coleção de cadeias de DNA, todas com o mesmo comprimento n. Sua matriz de perfil é uma matriz 4×n P na qual P1,j representa o número de vezes que 'A' ocorre na jª posição de uma das strings, P2,j representa o número de vezes que C ocorre na jª posição , e assim por diante.   \n",
    "\n",
    "![Matriz](https://miro.medium.com/max/1400/1*uKIIpJC3eanYCRJKrPLCeg.png \"matrix\")\n",
    "\n",
    "\n",
    "\n",
    "![Matrix](https://miro.medium.com/max/1400/1*8o9v-B3pRHYgBdY-p3rbXA.png \"matrix2\")"
   ]
  },
  {
   "cell_type": "markdown",
   "metadata": {},
   "source": [
    "Uma string de consenso c é uma string de comprimento n formada a partir de nossa coleção tomando o símbolo mais comum em cada posição; o j-ésimo símbolo de c corresponde, portanto, ao símbolo com o valor máximo na j-ésima coluna da matriz de perfil. Claro, pode haver mais de um símbolo mais comum, levando a várias sequências de consenso possíveis.\n",
    "\n",
    "![con](https://miro.medium.com/max/1400/1*2Ui9xXxlkJ0yDxWT0E_xBw.png \"consensus\")"
   ]
  },
  {
   "cell_type": "code",
   "execution_count": 9,
   "metadata": {},
   "outputs": [
    {
     "data": {
      "text/plain": [
       "{'A': [5, 1, 0, 0, 5, 5, 0, 0],\n",
       " 'C': [0, 0, 1, 4, 2, 0, 6, 1],\n",
       " 'G': [1, 1, 6, 3, 0, 1, 0, 0],\n",
       " 'T': [1, 5, 0, 0, 0, 1, 1, 6]}"
      ]
     },
     "execution_count": 9,
     "metadata": {},
     "output_type": "execute_result"
    }
   ],
   "source": [
    "sequences = [\"ATCCAGCT\",\n",
    "             \"GGGCAACT\",\n",
    "             \"ATGGATCT\",\n",
    "             \"AAGCAACC\",\n",
    "             \"TTGGAACT\",\n",
    "             \"ATGCCATT\",\n",
    "             \"ATGGCACT\"]\n",
    "\n",
    "n = 8 # length of each sequence\n",
    "\n",
    "profile_matrix = {\n",
    "    'A': [0]*n,\n",
    "    'C': [0]*n,\n",
    "    'G': [0]*n,\n",
    "    'T': [0]*n\n",
    "    }\n",
    "\n",
    "for dna in sequences:\n",
    "    for position, nucleotide in enumerate(dna):\n",
    "        profile_matrix[nucleotide][position] += 1\n",
    "profile_matrix\n"
   ]
  },
  {
   "cell_type": "code",
   "execution_count": 7,
   "metadata": {},
   "outputs": [
    {
     "data": {
      "text/plain": [
       "'ATGCAACT'"
      ]
     },
     "execution_count": 7,
     "metadata": {},
     "output_type": "execute_result"
    }
   ],
   "source": [
    "result = [] # list to save nucleotide with max count from each \"row\"\n",
    "\n",
    "for position in range(n):\n",
    "    max_count = 0\n",
    "    max_nucleotide = None\n",
    "    for nucleotide in ['A', 'C', 'G', 'T']:\n",
    "        count = profile_matrix[nucleotide][position]\n",
    "        if count > max_count:\n",
    "            max_count = count\n",
    "            max_nucleotide = nucleotide\n",
    "    result.append(max_nucleotide)\n",
    "\n",
    "consensus = ''.join(result)\n",
    "consensus"
   ]
  }
 ],
 "metadata": {
  "kernelspec": {
   "display_name": "Python 3",
   "language": "python",
   "name": "python3"
  },
  "language_info": {
   "codemirror_mode": {
    "name": "ipython",
    "version": 3
   },
   "file_extension": ".py",
   "mimetype": "text/x-python",
   "name": "python",
   "nbconvert_exporter": "python",
   "pygments_lexer": "ipython3",
   "version": "3.7.6"
  }
 },
 "nbformat": 4,
 "nbformat_minor": 4
}
