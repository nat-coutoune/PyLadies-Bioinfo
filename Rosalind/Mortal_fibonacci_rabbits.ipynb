{
 "cells": [
  {
   "cell_type": "markdown",
   "metadata": {},
   "source": [
    "# Dynamic programming and Fibonacci Rabbits"
   ]
  },
  {
   "cell_type": "markdown",
   "metadata": {},
   "source": [
    "Adaptado de [aqui](https://realpython.com/fibonacci-sequence-python/).  \n",
    "\n",
    "\n",
    "Leonardo Fibonacci foi um matemático italiano que foi capaz de responder rapidamente a esta pergunta do imperador Frederico II da Suábia: “Quantos pares de coelhos são obtidos em um ano, excluindo os casos de morte, supondo que cada casal dê à luz outro casal todos os meses e que os casais mais jovens já conseguem se reproduzir no segundo mês de vida?”\n",
    "\n",
    "A resposta foi a seguinte sequência:  \n",
    "> 0,1,1,2,3,5,8,13,21,34,55,89...\n",
    "\n",
    "O padrão começa após os dois primeiros números, 0 e 1, onde cada número na sequência é sempre a soma dos dois números anteriores. Os matemáticos indianos sabiam dessa sequência desde o século VI, e Fibonacci a aproveitou para calcular o crescimento das populações de coelhos.\n",
    "\n",
    "F ( n ) é usado para indicar o número de pares de coelhos presentes no mês n , então a sequência pode ser expressa assim:   \n",
    "\n",
    "\n",
    "![fibonacci_seq](https://files.realpython.com/media/mwong-fibonacci-recurrence-relation.09c03cec1b7d.png \"fibonacci_seq\")\n",
    "\n",
    "\n",
    "Na terminologia matemática, você chamaria isso de relação de recorrência , o que significa que cada termo da sequência (além de 0 e 1) é uma função dos termos anteriores.\n",
    "\n"
   ]
  },
  {
   "cell_type": "markdown",
   "metadata": {},
   "source": [
    "### Examinando a recursão por trás da sequência de Fibonacci \n",
    "\n",
    "\n",
    "Gerar a sequência de Fibonacci é um problema recursivo clássico. Recursão é quando uma função se refere a si mesma para quebrar o problema que está tentando resolver. Em cada chamada de função, o problema se torna menor até atingir um caso base , após o qual retornará o resultado para cada chamador intermediário até retornar o resultado final para o chamador original.\n",
    "\n",
    "Se você quisesse calcular o número de Fibonacci F (5), você precisaria calcular seus predecessores, F (4) e F (3), primeiro. E para calcular F (4) e F (3), você precisaria calcular seus predecessores. A divisão de F (5) em subproblemas menores ficaria assim:   \n",
    "\n",
    "![fibonacci_seq](https://translate.google.com/website?sl=en&tl=pt&hl=es-419&prev=search&u=https://files.realpython.com/media/mwong-fib5.afb4734df50f.png \"fibonacci_seq\")   \n",
    "\n",
    "\n",
    "Cada vez que a função de Fibonacci é chamada, ela é dividida em dois subproblemas menores porque foi assim que você definiu a relação de recorrência. Quando atinge o caso base de F (0) ou F (1), ele pode finalmente retornar um resultado de volta ao chamador.\n",
    "\n",
    "Para calcular o quinto número na sequência de Fibonacci, você resolve problemas menores, mas idênticos, até chegar aos casos base, onde pode começar a retornar um resultado:  \n",
    "  \n",
    "\n",
    "![fibonacci_seq](https://files.realpython.com/media/Screen_Shot_2021-06-04_at_3.24.02_PM.49155bd58b7d.png \"fibonacci_seq\")   \n",
    "\n",
    "\n",
    "Os subproblemas coloridos neste diagrama representam soluções repetitivas para o mesmo problema. Se você subir na árvore, encontrará mais dessas soluções repetitivas. Isso significa que, para gerar uma sequência de Fibonacci recursivamente, você precisa calcular vários números intermediários repetidamente. Esta é uma das questões fundamentais na abordagem recursiva da sequência de Fibonacci.  \n",
    "\n",
    "\n",
    "Esta função rapidamente se enquadra no problema de repetição que você viu na seção acima. A computação fica cada vez mais cara à medida que naumenta. O tempo necessário cresce exponencialmente porque a função calcula vários subproblemas idênticos repetidamente.\n",
    "\n",
    "A maioria dessas chamadas é redundante porque você já calculou seus resultados. F (3) aparece duas vezes e F (2) aparece três vezes. F (1) e F (0) são casos base, então não há problema em chamá-los várias vezes. Você pode querer evitar esse desperdício de repetição, que é o tópico das seções a seguir."
   ]
  },
  {
   "cell_type": "markdown",
   "metadata": {},
   "source": [
    "### Otimizando o Algoritmo Recursivo para a Sequência de Fibonacci   \n",
    "\n",
    "\n",
    "Existem pelo menos duas técnicas que você pode usar para tornar o algoritmo para gerar a sequência de Fibonacci mais eficiente – em outras palavras, para fazer com que demore menos tempo para computar. Essas técnicas garantem que você não continue computando os mesmos valores repetidamente, o que tornou o algoritmo original tão ineficiente. Eles são chamados de memorização e iteração.   \n",
    "\n",
    "\n"
   ]
  },
  {
   "cell_type": "code",
   "execution_count": 8,
   "metadata": {},
   "outputs": [
    {
     "name": "stdout",
     "output_type": "stream",
     "text": [
      "Adicione o número de gerações (meses): 5\n",
      "Adicione o número de pares de coelhos: 3\n",
      "7\n",
      "19\n",
      "40\n"
     ]
    },
    {
     "data": {
      "text/plain": [
       "19"
      ]
     },
     "execution_count": 8,
     "metadata": {},
     "output_type": "execute_result"
    }
   ],
   "source": [
    "#n = 5         # Numero de gerações\n",
    "#k = 3          # numero de (pares de) crias por geração\n",
    "\n",
    "def fib(n, k):    \n",
    "    a, b = 1, 1\n",
    "    for i in range(2, n):\n",
    "        a, b = b, k*a + b\n",
    "        #print(a)\n",
    "        #print(b)\n",
    "        #print( k*a + b)\n",
    "    return b\n",
    "\n",
    "n = int(input(\"Adicione o número de gerações (meses): \"))\n",
    "k = int(input(\"Adicione o número de pares de coelhos: \"))\n",
    "\n",
    "fib(n,k)"
   ]
  },
  {
   "cell_type": "code",
   "execution_count": 2,
   "metadata": {},
   "outputs": [
    {
     "data": {
      "text/plain": [
       "19"
      ]
     },
     "execution_count": 2,
     "metadata": {},
     "output_type": "execute_result"
    }
   ],
   "source": []
  },
  {
   "cell_type": "markdown",
   "metadata": {},
   "source": [
    "Adaptado [de aqui](https://duphan.wordpress.com/2015/07/10/dynamic-programming-and-mortal-fibonacci-rabbits/).\n",
    "\n",
    " A ideia desta técnica parece bastante simples: resolvemos o problema resolvendo seus subproblemas. Podemos pensar no problema de Fibonacci como uma ilustração simples: o valor do enésimo componente é a soma de seus 2 vizinhos precedentes. No entanto, os problemas de programação dinâmica geralmente vêm em diferentes formas, e demoro muito tempo para entender sua ideia, quanto mais aplicá-la para encontrar a solução para o desafio de programação em Rosalind.\n",
    "\n",
    "Basicamente, o princípio da programação dinâmica é: memorizar (lembrar) e reutilizar as soluções. O maior desafio com programação dinâmica é determinar os subproblemas. Existem 2 técnicas principais para resolver problemas dinâmicos: *top-down* e *bottom-up*.\n"
   ]
  },
  {
   "cell_type": "code",
   "execution_count": 11,
   "metadata": {},
   "outputs": [
    {
     "name": "stdout",
     "output_type": "stream",
     "text": [
      "2870048561233731259\n"
     ]
    }
   ],
   "source": [
    "def MortalFibonacci(n, m):\n",
    "    living = [1, 1]\n",
    "    for i in range(2, n):\n",
    "        # first reproduction\n",
    "        tmp = living[i - 1] + living[i - 2]\n",
    "        # then death\n",
    "        if i == m:\n",
    "            tmp = tmp - 1\n",
    "        if i > m:\n",
    "            tmp = tmp - living[i - m - 1]\n",
    "        living.append(tmp)\n",
    "    return living[-1]\n",
    "\n",
    "# months/generations\n",
    "n = 90\n",
    "# survival time\n",
    "m = 19\n",
    "\n",
    "print(MortalFibonacci(n, m))"
   ]
  },
  {
   "cell_type": "code",
   "execution_count": 10,
   "metadata": {},
   "outputs": [
    {
     "name": "stdout",
     "output_type": "stream",
     "text": [
      "2870048561233731259\n"
     ]
    }
   ],
   "source": [
    "n = 90  # months/generations                                                                        \n",
    "m = 19  # survival time    \n",
    "\n",
    "bunnies = [1, 1] # living                                                              \n",
    "months = 2       # max tempo vivos\n",
    "\n",
    "while months < n:                                                              \n",
    "    if months < m:                                                             \n",
    "        bunnies.append(bunnies[-2] + bunnies[-1])                              \n",
    "    elif months == m or count == m + 1:                                        \n",
    "        bunnies.append(bunnies[-2] + bunnies[-1] - 1)                          \n",
    "    else:                                                                      \n",
    "        bunnies.append(bunnies[-2] + bunnies[-1] - bunnies[-(m + 1)])                                                           \n",
    "    months += 1                                                                \n",
    "print(bunnies[-1])     "
   ]
  }
 ],
 "metadata": {
  "kernelspec": {
   "display_name": "Python 3",
   "language": "python",
   "name": "python3"
  },
  "language_info": {
   "codemirror_mode": {
    "name": "ipython",
    "version": 3
   },
   "file_extension": ".py",
   "mimetype": "text/x-python",
   "name": "python",
   "nbconvert_exporter": "python",
   "pygments_lexer": "ipython3",
   "version": "3.7.6"
  }
 },
 "nbformat": 4,
 "nbformat_minor": 4
}
